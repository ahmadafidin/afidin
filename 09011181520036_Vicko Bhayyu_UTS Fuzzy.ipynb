{
 "cells": [
  {
   "cell_type": "markdown",
   "metadata": {},
   "source": [
    "# Nama : Vicko Bhayyu\n",
    "# NIM : 09011181520036\n",
    "# SK7Pil Artificial Intelligence\n",
    "\n",
    "Sistem Penyiraman Otomatis dengan Logika Fuzzy\n"
   ]
  },
  {
   "cell_type": "markdown",
   "metadata": {},
   "source": [
    " Seorang petani ingin membuat suatu sistem penyiraman otomatis berbasiskan data suhu udara dan kelembaban tanah. Suhu udara ini diukur dari 15 sampai dengan 40 derajat, untuk kelembaban diukur dari 0 sampai dengan 950 RH. Sistem penyiraman otomatis ini akan mengeluarkan air otomatis bergantung pada lama waktu pompa air hidup atau lama waktu penyiraman dengan rentang waktu dari 2 detik hingga 20 detik.\n",
    "    \n"
   ]
  },
  {
   "cell_type": "code",
   "execution_count": 1,
   "metadata": {},
   "outputs": [],
   "source": [
    "import numpy as np\n",
    "import skfuzzy as fuzz\n",
    "import matplotlib.pyplot as plt\n",
    "from skfuzzy import control as ctrl"
   ]
  },
  {
   "cell_type": "markdown",
   "metadata": {},
   "source": [
    "Input :\n",
    "Suhu dibagi menjadi 4 bagian yakni :\n",
    "- Dingin (15 - 23 derajat)\n",
    "- Sejuk (19 - 27 derajat)\n",
    "- Normal (23 - 31 derajat)\n",
    "- Panas (29 - 40 derajat)\n",
    "\n",
    "Kelembaban dibagi menjadi 3 bagian yakni:\n",
    "- Kering (0 - 380 RH)\n",
    "- Lembab (237 - 712 RH)\n",
    "- Basah (570 - 950 RH)\n",
    "\n",
    "Output : \n",
    "Lama waktu penyiraman yang dibagi menjadi 5 bagian yakni :\n",
    "- Sangat cepat dengan rentang waktu  (2 - 4 detik)\n",
    "- Cepat dengan rentang waktu (3 - 8 detik)\n",
    "- Sedang denggan rentang waktu (7 - 12 detik)\n",
    "- Lama dengan rentang waktu (11 - 15 detik)\n",
    "- Sangat lama dengan rentang waktu (14 - 20 detik)"
   ]
  },
  {
   "cell_type": "markdown",
   "metadata": {},
   "source": [
    "Suhu udara mempunyai rentang nilai dari 15 derajat - 40 derajat"
   ]
  },
  {
   "cell_type": "code",
   "execution_count": 2,
   "metadata": {},
   "outputs": [],
   "source": [
    "suhu = ctrl.Antecedent(np.arange(15,40,1),'suhu')\n",
    "suhu_x = np.arange(15,40,1) #untuk plotting saja"
   ]
  },
  {
   "cell_type": "markdown",
   "metadata": {},
   "source": [
    "# Fuzzifikasi Suhu\n",
    "\n",
    "Proses untuk mengubah variabel non numerik menjadi variabel non fuzzy (numerik) menjadi variabel fuzzy (linguistik)"
   ]
  },
  {
   "cell_type": "markdown",
   "metadata": {},
   "source": [
    "Untuk suhu udara, fungsi keanggotaan dibagi menjadi 4 bagian :\n",
    "$$ Suhu Udara $$\n",
    "$$ Dingin = 15^{\\circ}C - 23^{\\circ}C$$\n",
    "$$ Sejuk = 19^{\\circ} - 27^{\\circ}C$$\n",
    "$$ Normal = 23^{\\circ} - 31^{\\circ}C$$\n",
    "$$ Panas = 23^{\\circ} - 40^{\\circ}C$$\n"
   ]
  },
  {
   "cell_type": "markdown",
   "metadata": {},
   "source": [
    "\n",
    "Dengan fungsi keanggotaan suhu udara\n",
    "\n",
    "\\begin{equation}\n",
    "  suhu['dingin'] = \\mu SuhuDingin(x)=\\begin{cases}\n",
    "    1, & \\text{$15\\leq x\\leq19$}.\\\\\n",
    "    (23 - x)/(23 - 19) , & \\text{$19 \\leq x \\leq 23$}.\\\\\n",
    "    0, & \\text{$x\\geq 23$}.\n",
    "  \\end{cases}\n",
    "  \\\\\n",
    "  suhu['sejuk'] = \\mu SuhuSejuk(x)=\\begin{cases}\n",
    "    0, & \\text{$x\\leq 19$ atau $x\\geq27$}.\\\\\n",
    "    (x - 19)/(23 - 19) , & \\text{$19 \\leq x \\leq 23$}.\\\\\n",
    "    (27 - x)/(27 - 23) , & \\text{$23 \\leq x \\leq 27$}.\\\\\n",
    "  \\end{cases}\n",
    "  \\\\\n",
    "    suhu ['normal'] = \\mu SuhuNormal(x)=\\begin{cases}\n",
    "    0, & \\text{$x\\leq 23$ atau $x\\geq31$}.\\\\\n",
    "    (x - 23)/(27 - 23) , & \\text{$23 \\leq x \\leq 27$}.\\\\\n",
    "    (31 - x)/(31 - 27) , & \\text{$27 \\leq x \\leq 31$}.\\\\\n",
    "  \\end{cases}\n",
    "  \\\\\n",
    "    suhu['panas'] = \\mu SuhuPanas(x)=\\begin{cases}\n",
    "    0, & \\text{$x\\leq 29$}.\\\\\n",
    "    (x - 29)/(31 - 29) , & \\text{$29 \\leq x \\leq 31$}.\\\\\n",
    "    1, & \\text{$x\\geq 31$}.\n",
    "  \\end{cases}\n",
    "\\end{equation}\n",
    "\n"
   ]
  },
  {
   "cell_type": "code",
   "execution_count": 3,
   "metadata": {},
   "outputs": [],
   "source": [
    "suhu['dingin'] = fuzz.trapmf(suhu.universe,[15,15,19,23]) #dari 15 derajat - 23 derajat\n",
    "suhu['sejuk'] = fuzz.trimf(suhu.universe,[19,23,27]) #dari 19 derajat - 27 derajat\n",
    "suhu['normal'] = fuzz.trimf(suhu.universe,[23,27,31])#dari 23 derajat - 31 derajat\n",
    "suhu['panas'] = fuzz.trapmf(suhu.universe,[29,31,40,40]) #dari 27 derajat - 35 derajat"
   ]
  },
  {
   "cell_type": "markdown",
   "metadata": {},
   "source": [
    "# PLOTTING MEMBERSHIP FUNCTION SUHU"
   ]
  },
  {
   "cell_type": "markdown",
   "metadata": {},
   "source": [
    "Plotting fungsi keanggotaan $\\mu SuhuDingin(x)$"
   ]
  },
  {
   "cell_type": "markdown",
   "metadata": {},
   "source": [
    "Plot fungsi keanggotaan $\\mu SuhuSejuk(x) $"
   ]
  },
  {
   "cell_type": "markdown",
   "metadata": {},
   "source": [
    "Plot fungsi keanggotaan $\\mu SuhuNormal(x) $"
   ]
  },
  {
   "cell_type": "markdown",
   "metadata": {},
   "source": [
    "Plot fungsi keanggotaan $\\mu SuhuPanas(x) $"
   ]
  },
  {
   "cell_type": "markdown",
   "metadata": {},
   "source": [
    "Plotting ke empat fungsi keanggotaan suhu"
   ]
  },
  {
   "cell_type": "code",
   "execution_count": 4,
   "metadata": {
    "scrolled": false
   },
   "outputs": [
    {
     "name": "stderr",
     "output_type": "stream",
     "text": [
      "C:\\Users\\AFIDIN\\Anaconda3\\lib\\site-packages\\skfuzzy\\control\\fuzzyvariable.py:122: UserWarning: Matplotlib is currently using module://ipykernel.pylab.backend_inline, which is a non-GUI backend, so cannot show the figure.\n",
      "  fig.show()\n"
     ]
    },
    {
     "data": {
      "image/png": "[encoded data removed]",
      "text/plain": [
       "<Figure size 432x288 with 1 Axes>"
      ]
     },
     "metadata": {
      "needs_background": "light"
     },
     "output_type": "display_data"
    }
   ],
   "source": [
    "suhu.view()"
   ]
  },
  {
   "cell_type": "markdown",
   "metadata": {},
   "source": [
    "# Fuzzifikasi Kelembaban"
   ]
  },
  {
   "cell_type": "code",
   "execution_count": 5,
   "metadata": {},
   "outputs": [],
   "source": [
    "kelembaban = ctrl.Antecedent(np.arange(0,950,1),'kelembaban')\n",
    "kelembaban_x = np.arange(0,950,1)"
   ]
  },
  {
   "cell_type": "markdown",
   "metadata": {},
   "source": [
    "Untuk kelembaban tanah, fungsi keanggotaan dibagi menjadi 3 bagian :\n",
    "\n",
    "Tanah tersebut dinyatakan kering ketika mempunyai nilai kelembaban 0 - 380 RH.\n",
    "\n",
    "Tanah tersebut dinyatakan lembab ketika mempunyai nilai kelembaban 237 - 712 RH.\n",
    "\n",
    "Tanah tersebut dinyatakan basah ketika mempunyai nilai kelembaban 570 - 950 RH"
   ]
  },
  {
   "cell_type": "markdown",
   "metadata": {},
   "source": [
    "\n",
    "Dengan fungsi keanggotaan suhu udara\n",
    "\n",
    "\\begin{equation}\n",
    "  kelembaban['kering'] = \\mu KelembabanKering(x)=\\begin{cases}\n",
    "    1, & \\text{$0\\leq x \\leq 200$}.\\\\\n",
    "    \\left.(380 - x) \\,  \\right/(380 - 200) , & \\text{$200 \\leq x \\leq 380$}.\\\\\n",
    "    0, & \\text{$x\\geq 380$}.\n",
    "  \\end{cases}\n",
    "  \\\\\n",
    "    kelembaban['lembab'] = \\mu KelembabanLembab(x)=\\begin{cases}\n",
    "    0, & \\text{$x\\leq 237$ atau $x\\geq712$}.\\\\\n",
    "    \\left.(x - 237)\\, \\right/(475 - 237) , & \\text{$237 \\leq x \\leq 475$}.\\\\\n",
    "    \\left.(712 - x)\\, \\right/(712 - 475) , & \\text{$475 \\leq x \\leq 712$}.\\\\\n",
    "  \\end{cases}\n",
    "  \\\\\n",
    "  kelembaban['basah'] = \\mu KelembabanBasah(x)=\\begin{cases}\n",
    "    0, & \\text{$x \\leq 570$}.\\\\\n",
    "    \\left.(x - 570) \\,  \\right/(750 - 570) , & \\text{$570 \\leq x \\leq 712$}.\\\\\n",
    "    1, & \\text{$x\\geq 712$}.\n",
    "  \\end{cases}\n",
    "\\end{equation}\n",
    "\n"
   ]
  },
  {
   "cell_type": "code",
   "execution_count": 6,
   "metadata": {},
   "outputs": [],
   "source": [
    "kelembaban['kering'] = fuzz.trapmf(kelembaban.universe,[0,0,200,380])\n",
    "kelembaban['lembab'] = fuzz.trimf(kelembaban.universe,[237,475,712])\n",
    "kelembaban['basah'] = fuzz.trapmf(kelembaban.universe,[570,750,950,950])\n"
   ]
  },
  {
   "cell_type": "markdown",
   "metadata": {},
   "source": [
    "# Plotting membership function kelembaban"
   ]
  },
  {
   "cell_type": "markdown",
   "metadata": {},
   "source": [
    "Plot fungsi keanggotaan $\\mu KelembabanKering(x) $"
   ]
  },
  {
   "cell_type": "markdown",
   "metadata": {},
   "source": [
    "Plot fungsi keanggotaan $\\mu KelembabanLembab(x) $"
   ]
  },
  {
   "cell_type": "markdown",
   "metadata": {},
   "source": [
    "Plot fungsi keanggotaan $\\mu KelembabanBasah(x) $"
   ]
  },
  {
   "cell_type": "markdown",
   "metadata": {},
   "source": [
    "Plot ke 3 fungsi keanggotaan kelembaban"
   ]
  },
  {
   "cell_type": "code",
   "execution_count": 7,
   "metadata": {
    "scrolled": false
   },
   "outputs": [
    {
     "data": {
      "image/png": "[encoded data removed]",
      "text/plain": [
       "<Figure size 432x288 with 1 Axes>"
      ]
     },
     "metadata": {
      "needs_background": "light"
     },
     "output_type": "display_data"
    }
   ],
   "source": [
    "kelembaban.view()"
   ]
  },
  {
   "cell_type": "markdown",
   "metadata": {},
   "source": [
    "# Fuzzifikasi Durasi"
   ]
  },
  {
   "cell_type": "code",
   "execution_count": 8,
   "metadata": {},
   "outputs": [],
   "source": [
    "durasi = ctrl.Consequent(np.arange(2,20,1),'durasi')\n",
    "durasi_x = np.arange(2,20,1)"
   ]
  },
  {
   "cell_type": "markdown",
   "metadata": {},
   "source": [
    "Lama waktu penyiraman diberi nama variabel durasi dengan rentang waktu 2 - 20 detik dibagi menjadi 5 fungsi keanggotaan yakni :\n",
    "1. Sangat Cepat = 2 - 4 Detik\n",
    "2. Cepat = 3 - 8 Detik\n",
    "3. Sedang = 7 - 12 detik\n",
    "4. Lama = 11 - 15 detik\n",
    "5. Sangat Lama = 14 - 20 detik"
   ]
  },
  {
   "cell_type": "markdown",
   "metadata": {},
   "source": [
    "\n",
    "Dengan fungsi keanggotaan suhu udara\n",
    "\n",
    "\\begin{equation}\n",
    "  durasi['sangat cepat'] = \\mu DurasiSangatCepat(x)=\\begin{cases}\n",
    "    1, & \\text{$2\\leq x \\leq 3$}.\\\\\n",
    "    \\left.(4 - x) \\,  \\right/(4 - 3) , & \\text{$3 \\leq x \\leq 4$}.\\\\\n",
    "    0, & \\text{$x\\geq 4$}.\n",
    "  \\end{cases}\n",
    "  \\\\\n",
    "    durasi['cepat'] = \\mu DurasiCepat(x)=\\begin{cases}\n",
    "    0, & \\text{$x\\leq 3$ atau $x\\geq8$}.\\\\\n",
    "    \\left.(x - 3)\\, \\right/(6 - 3) , & \\text{$3 \\leq x \\leq 6$}.\\\\\n",
    "    \\left.(8 - x)\\, \\right/(8 - 6) , & \\text{$6 \\leq x \\leq 8$}.\\\\\n",
    "  \\end{cases}\n",
    "  \\\\\n",
    "    durasi['sedang'] = \\mu DurasiSedang(x)=\\begin{cases}\n",
    "    0, & \\text{$x\\leq 7$ atau $x\\geq12$}.\\\\\n",
    "    \\left.(x - 7)\\, \\right/(10 - 7) , & \\text{$7 \\leq x \\leq 10$}.\\\\\n",
    "    \\left.(12 - x)\\, \\right/(12 - 10) , & \\text{$10 \\leq x \\leq 12$}.\\\\\n",
    "  \\end{cases}\n",
    "  \\\\\n",
    "   durasi['lama'] = \\mu DurasiLama(x)=\\begin{cases}\n",
    "    0, & \\text{$x\\leq 11$ atau $x\\geq15$}.\\\\\n",
    "    \\left.(x - 11)\\, \\right/(13 - 11) , & \\text{$11 \\leq x \\leq 13$}.\\\\\n",
    "    \\left.(15 - x)\\, \\right/(15 - 13) , & \\text{$13 \\leq x \\leq 15$}.\\\\\n",
    "  \\end{cases}\n",
    "  \\\\\n",
    "  durasi['sangat lama'] = \\mu DurasiSangatLama(x)=\\begin{cases}\n",
    "    0, & \\text{$x \\leq 14$}.\\\\\n",
    "    \\left.(x - 14) \\,  \\right/(16 - 14) , & \\text{$14 \\leq x \\leq 16$}.\\\\\n",
    "    1, & \\text{$x\\geq 16$}.\n",
    "  \\end{cases}\n",
    "\\end{equation}\n",
    "\n"
   ]
  },
  {
   "cell_type": "code",
   "execution_count": 9,
   "metadata": {},
   "outputs": [],
   "source": [
    "durasi['sangat cepat'] = fuzz.trapmf(durasi.universe,[2,2,3,4]) # dari 2 - 4 detik\n",
    "durasi['cepat'] = fuzz.trimf(durasi.universe,[3,6,8]) # dari 3 - 8 detik\n",
    "durasi['sedang'] = fuzz.trimf(durasi.universe,[7,10,12]) #dari 7 - 12 detik\n",
    "durasi['lama'] = fuzz.trimf(durasi.universe,[11,13,15]) #dari 11 - 15 detik\n",
    "durasi['sangat lama'] = fuzz.trapmf(durasi.universe,[14,16,20,20]) #dari 14 - 20 detik"
   ]
  },
  {
   "cell_type": "markdown",
   "metadata": {},
   "source": [
    "# Plotting fungsi keanggotaan durasi"
   ]
  },
  {
   "cell_type": "markdown",
   "metadata": {},
   "source": [
    "Plot fungsi keanggotaan $\\mu DurasiSangatCepat(x) $"
   ]
  },
  {
   "cell_type": "markdown",
   "metadata": {},
   "source": [
    "Plot fungsi keanggotaan $\\mu DurasiCepat(x) $"
   ]
  },
  {
   "cell_type": "markdown",
   "metadata": {},
   "source": [
    "Plot fungsi keanggotaan $\\mu DurasiSedang(x) $"
   ]
  },
  {
   "cell_type": "markdown",
   "metadata": {},
   "source": [
    "Plot fungsi keanggotaan $\\mu DurasiLama(x) $"
   ]
  },
  {
   "cell_type": "markdown",
   "metadata": {},
   "source": [
    "Plot fungsi keanggotaan $\\mu DurasiSangatLama(x) $"
   ]
  },
  {
   "cell_type": "markdown",
   "metadata": {},
   "source": [
    "Plotting kelima fungsi keanggotaan durasi"
   ]
  },
  {
   "cell_type": "code",
   "execution_count": 10,
   "metadata": {
    "scrolled": false
   },
   "outputs": [
    {
     "data": {
      "image/png": "[encoded data removed]",
      "text/plain": [
       "<Figure size 432x288 with 1 Axes>"
      ]
     },
     "metadata": {
      "needs_background": "light"
     },
     "output_type": "display_data"
    }
   ],
   "source": [
    "durasi.view()"
   ]
  },
  {
   "cell_type": "markdown",
   "metadata": {},
   "source": [
    "# Inferencing\n",
    "Pada tahap inferencing, membuat aturan-aturan fuzzy yang dinyatakan dalam bentuk IF .... THEN ...."
   ]
  },
  {
   "cell_type": "markdown",
   "metadata": {},
   "source": [
    "Pada sistem ini berdasarkan jumlah fuzzifikasi dari variabel suhu yang berjumlah 4 dan fuzzifikasi dari variabel kelembaban yang berjumlah 3, maka rule yang dibuat berjumlah 4 x 3 = 12 rule"
   ]
  },
  {
   "cell_type": "markdown",
   "metadata": {},
   "source": [
    "1. IF Suhu DINGIN dan Kelembaban KERING THEN Durasi SEDANG\n",
    "2. IF Suhu SEJUK dan Kelembaban KERING THEN Durasi SEDANG\n",
    "3. IF Suhu NORMAL dan Kelembaban KERING THEN Durasi LAMA\n",
    "4. IF Suhu PANAS dan Kelembaban KERING THEN Durasi SANGAT LAMA\n",
    "\n",
    "5. IF Suhu DINGIN dan Kelembaban LEMBAB THEN Durasi CEPAT\n",
    "6. IF Suhu SEJUK dan Kelembaban LEMBAB THEN Durasi CEPAT\n",
    "7. IF Suhu NORMAL dan Kelembaban LEMBAB THEN Durasi SEDANG\n",
    "8. IF Suhu PANAS dan Kelembaban LEMBAB THEN Durasi LAMA\n",
    "\n",
    "9. IF Suhu DINGIN dan Kelembaban BASAH THEN Durasi SANGAT CEPAT\n",
    "10. IF Suhu SEJUK dan Kelembaban BASAH THEN Durasi CEPAT\n",
    "11. IF Suhu Normal dan Kelembaban BASAH THEN Durasi CEPAT\n",
    "12. IF Suhu PANAS dan Kelembaban BASAH THEN Durasi CEPAT"
   ]
  },
  {
   "cell_type": "code",
   "execution_count": 11,
   "metadata": {},
   "outputs": [],
   "source": [
    "rule1 = ctrl.Rule(suhu['dingin'] & kelembaban['kering'], durasi['sedang'])\n",
    "rule2 = ctrl.Rule(suhu['sejuk'] & kelembaban['kering'], durasi['sedang'])\n",
    "rule3 = ctrl.Rule(suhu['normal'] & kelembaban['kering'], durasi['lama'])\n",
    "rule4 = ctrl.Rule(suhu['panas'] & kelembaban['kering'], durasi['sangat lama'])\n",
    "\n",
    "rule5 = ctrl.Rule(suhu['dingin'] & kelembaban['lembab'], durasi['cepat'])\n",
    "rule6 = ctrl.Rule(suhu['sejuk'] & kelembaban['lembab'], durasi['cepat'])\n",
    "rule7 = ctrl.Rule(suhu['normal'] & kelembaban['lembab'], durasi['sedang'])\n",
    "rule8 = ctrl.Rule(suhu['panas'] & kelembaban['lembab'], durasi['lama'])\n",
    "\n",
    "rule9 = ctrl.Rule(suhu['dingin'] & kelembaban['basah'], durasi['sangat cepat'])\n",
    "rule10 = ctrl.Rule(suhu['sejuk'] & kelembaban['basah'], durasi['cepat'])\n",
    "rule11 = ctrl.Rule(suhu['normal'] & kelembaban['basah'], durasi['cepat'])\n",
    "rule12 = ctrl.Rule(suhu['panas'] & kelembaban['basah'], durasi['cepat'])"
   ]
  },
  {
   "cell_type": "markdown",
   "metadata": {},
   "source": [
    "# RULE EVALUATION"
   ]
  },
  {
   "cell_type": "code",
   "execution_count": 12,
   "metadata": {},
   "outputs": [],
   "source": [
    "siram_ctrl = ctrl.ControlSystem([rule1,rule2,rule3,rule4,rule5,rule6,rule7,rule8,rule9,rule10,rule11,rule12])"
   ]
  },
  {
   "cell_type": "markdown",
   "metadata": {},
   "source": [
    "# DEFUZZIFIKASI"
   ]
  },
  {
   "cell_type": "code",
   "execution_count": 13,
   "metadata": {},
   "outputs": [],
   "source": [
    "siramm = ctrl.ControlSystemSimulation(siram_ctrl)"
   ]
  },
  {
   "cell_type": "markdown",
   "metadata": {},
   "source": [
    "Input suhu kita masukan 30 dan kelembaban 200"
   ]
  },
  {
   "cell_type": "code",
   "execution_count": 14,
   "metadata": {},
   "outputs": [],
   "source": [
    "siramm.input['suhu'] = 30\n",
    "siramm.input['kelembaban'] = 200"
   ]
  },
  {
   "cell_type": "markdown",
   "metadata": {},
   "source": [
    "Melakukan perhitungan defuzzifikasi"
   ]
  },
  {
   "cell_type": "code",
   "execution_count": 15,
   "metadata": {},
   "outputs": [],
   "source": [
    "siramm.compute()"
   ]
  },
  {
   "cell_type": "markdown",
   "metadata": {},
   "source": [
    "Mencetak hasil output defuzzifikasi"
   ]
  },
  {
   "cell_type": "code",
   "execution_count": 16,
   "metadata": {
    "scrolled": true
   },
   "outputs": [
    {
     "name": "stdout",
     "output_type": "stream",
     "text": [
      "15.743055555555557\n"
     ]
    }
   ],
   "source": [
    "print(siramm.output['durasi'])"
   ]
  },
  {
   "cell_type": "markdown",
   "metadata": {},
   "source": [
    "Plotting fungsi keangggotaan suhu setelah dimasukkan input nilai pada suhu"
   ]
  },
  {
   "cell_type": "code",
   "execution_count": 17,
   "metadata": {
    "scrolled": true
   },
   "outputs": [
    {
     "data": {
      "image/png": "[encoded data removed]",
      "text/plain": [
       "<Figure size 432x288 with 1 Axes>"
      ]
     },
     "metadata": {
      "needs_background": "light"
     },
     "output_type": "display_data"
    }
   ],
   "source": [
    "suhu.view(sim=siramm)"
   ]
  },
  {
   "cell_type": "markdown",
   "metadata": {},
   "source": [
    "Plotting fungsi keangggotaan kelembaban setelah dimasukkan input nilai pada kelembaban"
   ]
  },
  {
   "cell_type": "code",
   "execution_count": 18,
   "metadata": {
    "scrolled": true
   },
   "outputs": [
    {
     "data": {
      "image/png": "[encoded data removed]",
      "text/plain": [
       "<Figure size 432x288 with 1 Axes>"
      ]
     },
     "metadata": {
      "needs_background": "light"
     },
     "output_type": "display_data"
    }
   ],
   "source": [
    "kelembaban.view(sim=siramm)"
   ]
  },
  {
   "cell_type": "markdown",
   "metadata": {},
   "source": [
    "Plotting fungsi keangggotaan durasi setelah dilakukan perhitungan defuzzifikasi output nilai pada durasi"
   ]
  },
  {
   "cell_type": "code",
   "execution_count": 19,
   "metadata": {
    "scrolled": true
   },
   "outputs": [
    {
     "data": {
      "image/png": "[encoded data removed]",
      "text/plain": [
       "<Figure size 432x288 with 1 Axes>"
      ]
     },
     "metadata": {
      "needs_background": "light"
     },
     "output_type": "display_data"
    }
   ],
   "source": [
    "durasi.view(sim=siramm)"
   ]
  },
  {
   "cell_type": "markdown",
   "metadata": {},
   "source": [
    "# Perhitungan Manual"
   ]
  },
  {
   "cell_type": "markdown",
   "metadata": {},
   "source": [
    "\\begin{equation}\n",
    "    Suhu = 30 \\\\\n",
    "    Masukkan\\,nilai\\,suhu\\,ke\\,dalam\\,masing-masing\\,fungsi\\,keanggotaan\\,suhu\\\\\n",
    "  suhu['dingin'] = \\mu SuhuDingin(x)=\\begin{cases}\n",
    "    1, & \\text{$15\\leq x\\leq19$}.\\\\\n",
    "    (23 - x)/(23 - 19) , & \\text{$19 \\leq x \\leq 23$}.\\\\\n",
    "    0, & \\text{$x\\geq 23 $ }.\\checkmark\n",
    "  \\end{cases}\n",
    "  \\\\\n",
    "  suhu['sejuk'] = \\mu SuhuSejuk(x)=\\begin{cases}\n",
    "    0, & \\text{$x\\leq 19$ atau $x\\geq27$}. \\checkmark \\\\\n",
    "    (x - 19)/(23 - 19) , & \\text{$19 \\leq x \\leq 23$}.\\\\\n",
    "    (27 - x)/(27 - 23) , & \\text{$23 \\leq x \\leq 27$}.\\\\\n",
    "  \\end{cases}\n",
    "  \\\\\n",
    "    suhu ['normal'] = \\mu SuhuNormal(x)=\\begin{cases}\n",
    "    0, & \\text{$x\\leq 23$ atau $x\\geq31$}.\\\\\n",
    "    (x - 23)/(27 - 23) , & \\text{$23 \\leq x \\leq 27$}.\\\\\n",
    "    (31 - 30)/(31 - 27) , & \\text{$27 \\leq x \\leq 31$}.\\checkmark \\\\\n",
    "  \\end{cases}\n",
    "  \\\\\n",
    "    suhu['panas'] = \\mu SuhuPanas(x)=\\begin{cases}\n",
    "    0, & \\text{$x\\leq 29$}.\\\\\n",
    "    (30 - 29)/(31 - 29) , & \\text{$29 \\leq x \\leq 31$}.\\checkmark\\\\\n",
    "    1, & \\text{$x\\geq 31$}.\n",
    "  \\end{cases}\n",
    "\\end{equation}\n",
    "\n"
   ]
  },
  {
   "cell_type": "markdown",
   "metadata": {},
   "source": [
    "\\begin{equation}\n",
    "    \\mu SuhuNormal(30) = (31 - 30) / (31 - 27) \\\\\n",
    "    \\mu SuhuNormal(30) = 1/4 \\\\ \n",
    "    \\mu SuhuNormal(30) = 0.25 \\\\\n",
    "    \\mu SuhuPanas(30) = (30 - 29) / (31-29) \\\\\n",
    "    \\mu SuhuPanas(30) = 1/2 \\\\\n",
    "    \\mu SuhuPanas(30) = 0.5 \\\\\n",
    "\\end{equation}"
   ]
  },
  {
   "cell_type": "markdown",
   "metadata": {},
   "source": [
    "\\begin{equation}\n",
    "   Kelembaban = 200 \\\\\n",
    "  kelembaban['kering'] = \\mu KelembabanKering(x)=\\begin{cases}\n",
    "    1, & \\text{$0\\leq x \\leq 200$}. \\checkmark \\\\ \n",
    "    \\left.(380 - x) \\,  \\right/(380 - 200) , & \\text{$200 \\leq x \\leq 380$}.\\\\\n",
    "    0, & \\text{$x\\geq 380$}.\n",
    "  \\end{cases}\n",
    "  \\\\\n",
    "    kelembaban['lembab'] = \\mu KelembabanLembab(x)=\\begin{cases}\n",
    "    0, & \\text{$x\\leq 237$ atau $x\\geq712$}.\\checkmark\\\\\n",
    "    \\left.(x - 237)\\, \\right/(475 - 237) , & \\text{$237 \\leq x \\leq 475$}.\\\\\n",
    "    \\left.(712 - x)\\, \\right/(712 - 475) , & \\text{$475 \\leq x \\leq 712$}.\\\\\n",
    "  \\end{cases}\n",
    "  \\\\\n",
    "  kelembaban['basah'] = \\mu KelembabanBasah(x)=\\begin{cases}\n",
    "    0, & \\text{$x \\leq 570$}.\\checkmark\\\\\n",
    "    \\left.(x - 570) \\,  \\right/(750 - 570) , & \\text{$570 \\leq x \\leq 712$}.\\\\\n",
    "    1, & \\text{$x\\geq 712$}.\n",
    "  \\end{cases}\n",
    "\\end{equation}"
   ]
  },
  {
   "cell_type": "markdown",
   "metadata": {},
   "source": [
    "\\begin{equation}\n",
    " \\mu KelembabanKering(x) = 1\n",
    "\\end{equation}"
   ]
  },
  {
   "cell_type": "markdown",
   "metadata": {},
   "source": [
    "Lalu kita cari nilai z untuk setiap aturan dengan menggunakan fungsi MIN karena menggunakan rule AND\n",
    "\n",
    "1 IF Suhu Dingin AND Kelembaban Kering THEN Durasi Sedang\n",
    "\n",
    "$$ \\\\ \\alpha(predikat_1) = \\mu SuhuDingin \\cap \\mu KelembabanKering $$\n",
    "$$\\alpha(predikat_1)   = min (\\mu SuhuDingin[30], \\mu KelembabanKering[200]) $$\n",
    "$$ \\alpha(predikat_1) = min (0; 1) $$\n",
    "$$ \\alpha(predikat_1) = 0 $$\n",
    "\n",
    "Lalu lihat himpunan Durasi Sedang \n",
    "$$\n",
    "   durasi['sedang'] = \\mu(x)=\\begin{cases}\n",
    "    0, & \\text{$x\\leq 7$ atau $x\\geq12$}.\\\\\n",
    "    \\left.(x - 7)\\, \\right/(10 - 7) , & \\text{$7 \\leq x \\leq 10$}.\\\\\n",
    "    \\left.(12 - x)\\, \\right/(12 - 10) , & \\text{$10 \\leq x \\leq 12$}.\\\\\n",
    "  \\end{cases}\n",
    " $$\n",
    "Maka nilai $ Z_1 = 0 $\n",
    "\n",
    "=================================================================================================================\n",
    "\n",
    "2 IF Suhu Sejuk AND Kelembaban Kering THEN Durasi Sedang\n",
    "\n",
    "$$ \\\\ \\alpha(predikat_2) = \\mu SuhuSedang \\cap \\mu KelembabanKering $$\n",
    "$$\\alpha(predikat_2)   = min (\\mu SuhuSedang[30], \\mu KelembabanKering[200]) $$\n",
    "$$ \\alpha(predikat_2) = min (0; 1) $$\n",
    "$$ \\alpha(predikat_2) = 0 $$\n",
    "\n",
    "Lalu lihat himpunan Durasi Sedang \n",
    "$$\n",
    "   durasi['sedang'] = \\mu(x)=\\begin{cases}\n",
    "    0, & \\text{$x\\leq 7$ atau $x\\geq12$}.\\\\\n",
    "    \\left.(x - 7)\\, \\right/(10 - 7) , & \\text{$7 \\leq x \\leq 10$}.\\\\\n",
    "    \\left.(12 - x)\\, \\right/(12 - 10) , & \\text{$10 \\leq x \\leq 12$}.\\\\\n",
    "  \\end{cases}\n",
    "$$\n",
    "\n",
    "Maka nilai $ Z_2 = 0 $\n",
    "\n",
    "=================================================================================================================\n",
    "\n",
    "3 IF Suhu Normal AND Kelembaban Kering THEN Durasi Lama\n",
    "\n",
    "$$ \\\\ \\alpha(predikat_3) = \\mu SuhuNormal \\cap \\mu KelembabanKering $$\n",
    "$$\\alpha(predikat_3)   = min (\\mu SuhuNormal[30], \\mu KelembabanKering[200]) $$\n",
    "$$ \\alpha(predikat_3) = min (0.25; 1) $$\n",
    "$$ \\alpha(predikat_3) = 0.25 $$\n",
    "\n",
    "Lalu lihat himpunan Durasi Lama\n",
    "$$\n",
    "  \\\\\n",
    "   durasi['lama'] = \\mu(x)=\\begin{cases}\n",
    "    0, & \\text{$x\\leq 11$ atau $x\\geq15$}.\\\\\n",
    "    \\left.(x - 11)\\, \\right/(13 - 11) , & \\text{$11 \\leq x \\leq 13$}.\\\\\n",
    "    \\left.(15 - x)\\, \\right/(15 - 13) , & \\text{$13 \\leq x \\leq 15$}.\\\\\n",
    "  \\end{cases}\n",
    "  \\\\\n",
    "$$\n",
    "Terdapat 2 nilai keanggotaan maka kita uji satu persatu\n",
    " $$(x- 11) / (13 - 11) = 0.25 $$\n",
    " $$ x - 11 = 0.25 \\times 2 $$\n",
    " $$ x - 11 = 0.5 $$\n",
    " $$ x = 11.5 $$\n",
    " \n",
    " $$ (15 -x) / (15 -13) = 0.25 $$\n",
    " $$ (15 - x) = 0.5 $$\n",
    " $$ - x = -14.5 $$\n",
    " $$ x = 14.5 $$\n",
    "Akan diambil nilai terkecil\n",
    "Maka nilai $ Z_3 = 11.5 $\n",
    "\n",
    "\n",
    "=================================================================================================================\n",
    "\n",
    "4 IF Suhu Panas dan Kelembaban Kering THEN Durasi Sangat Lama\n",
    "\n",
    "$$ \\\\ \\alpha(predikat_4) = \\mu SuhuPanas \\cap \\mu KelembabanKering $$\n",
    "$$\\alpha(predikat_4)   = min (\\mu SuhuPanas[30], \\mu KelembabanKering[200]) $$\n",
    "$$ \\alpha(predikat_4) = min (0.5; 1) $$\n",
    "$$ \\alpha(predikat_4) = 0.5 $$\n",
    "\n",
    "Lalu lihat himpunan sangat lama\n",
    "$$ durasi['sangat\\,lama'] = \\mu(x)=\\begin{cases}\n",
    "    0, & \\text{$x \\leq 14$}.\\\\\n",
    "    \\left.(x - 14) \\,  \\right/(16 - 14) , & \\text{$14 \\leq x \\leq 16$}.\\\\\n",
    "    1, & \\text{$x\\geq 16$}.\n",
    "  \\end{cases}\n",
    "$$\n",
    "\n",
    "Terdapat 1 nilai keanggotaan yang akan kita masukkan nilainya\n",
    "\n",
    "$$\n",
    "(x-14) / (16-14) = 0.5 \\\\\n",
    "(x-14) = 1 \\\\ \n",
    "x = 15 \\\\\n",
    "$$\n",
    "\n",
    "Maka nilai Z$_4$ = 15\n",
    "\n",
    "\n",
    "=================================================================================================================\n",
    "5 IF Suhu Dingin dan Kelembaban Lembab Durasi Cepat\n",
    "\n",
    "$$ \\\\ \\alpha(predikat_5) = \\mu SuhuDingin \\cap \\mu KelembabanLembab $$\n",
    "$$\\alpha(predikat_5)   = min (\\mu SuhuDingin[30], \\mu KelembabanLembab[200]) $$\n",
    "$$ \\alpha(predikat_5) = min (0; 0) $$\n",
    "$$ \\alpha(predikat_5) = 0 $$\n",
    "\n",
    "Lalu lihat himpunan Durasi Cepat\n",
    "$$\n",
    "    durasi['cepat'] = \\mu(x)=\\begin{cases}\n",
    "    0, & \\text{$x\\leq 3$ atau $x\\geq8$}.\\\\\n",
    "    \\left.(x - 3)\\, \\right/(6 - 3) , & \\text{$3 \\leq x \\leq 6$}.\\\\\n",
    "    \\left.(8 - x)\\, \\right/(8 - 6) , & \\text{$6 \\leq x \\leq 8$}.\\\\\n",
    "  \\end{cases}\n",
    "$$\n",
    "\n",
    "Maka nilai keanggotaan yang memenuhi adalah 0\n",
    "Maka nilai Z$_5$ = 0\n",
    "\n",
    "=================================================================================================================\n",
    "\n",
    "6 IF Suhu Sejuk dan Kelembaban Lembab THEN Durasi Cepat\n",
    "\n",
    "$$ \\\\ \\alpha(predikat_6) = \\mu SuhuSejuk \\cap \\mu KelembabanLembab $$\n",
    "$$\\alpha(predikat_6)   = min (\\mu SuhuSejuk[30], \\mu KelembabanLembab[200]) $$\n",
    "$$ \\alpha(predikat_6) = min (0; 0) $$\n",
    "$$ \\alpha(predikat_6) = 0 $$\n",
    "\n",
    "Lalu lihat himpunan Durasi Cepat\n",
    "$$\n",
    "    durasi['cepat'] = \\mu(x)=\\begin{cases}\n",
    "    0, & \\text{$x\\leq 3$ atau $x\\geq8$}.\\\\\n",
    "    \\left.(x - 3)\\, \\right/(6 - 3) , & \\text{$3 \\leq x \\leq 6$}.\\\\\n",
    "    \\left.(8 - x)\\, \\right/(8 - 6) , & \\text{$6 \\leq x \\leq 8$}.\\\\\n",
    "  \\end{cases}\n",
    "$$\n",
    "\n",
    "Maka nilai keanggotaan yang memenuhi adalah 0\n",
    "Maka nilai Z$_6$ = 0\n",
    "\n",
    "\n",
    "=================================================================================================================\n",
    "\n",
    "7 IF Suhu Normal dan Kelembaban Lembab THEN Sedang\n",
    "$$ \\\\ \\alpha(predikat_7) = \\mu SuhuNormal \\cap \\mu KelembabanLembab $$\n",
    "$$\\alpha(predikat_7)   = min (\\mu SuhuNormal[30], \\mu KelembabanLembab[200]) $$\n",
    "$$ \\alpha(predikat_7) = min (0.25; 0) $$\n",
    "$$ \\alpha(predikat_7) = 0 $$\n",
    "\n",
    "Lalu lihat himpunan Durasi Sedang\n",
    "\n",
    "$$\n",
    "   durasi['sedang'] = \\mu(x)=\\begin{cases}\n",
    "    0, & \\text{$x\\leq 7$ atau $x\\geq12$}.\\\\\n",
    "    \\left.(x - 7)\\, \\right/(10 - 7) , & \\text{$7 \\leq x \\leq 10$}.\\\\\n",
    "    \\left.(12 - x)\\, \\right/(12 - 10) , & \\text{$10 \\leq x \\leq 12$}.\\\\\n",
    "  \\end{cases}\n",
    "$$\n",
    "\n",
    "Maka nilai keanggotaan yang memenuhi adalah 0\n",
    "Maka nilai Z$_7$ = 0\n",
    "\n",
    "=================================================================================================================\n",
    "\n",
    "8 IF Suhu Panas dan Kelembaban Lembab THEN Sedang\n",
    "$$ \\\\ \\alpha(predikat_8) = \\mu SuhuPanas \\cap \\mu KelembabanLembab $$\n",
    "$$\\alpha(predikat_8)   = min (\\mu SuhuPanas[30], \\mu KelembabanLembab[200]) $$\n",
    "$$ \\alpha(predikat_8) = min (0.5; 0) $$\n",
    "$$ \\alpha(predikat_8) = 0 $$\n",
    "\n",
    "Lalu lihat himpunan Durasi Lama\n",
    "$$\n",
    "  \\\\\n",
    "   durasi['lama'] = \\mu(x)=\\begin{cases}\n",
    "    0, & \\text{$x\\leq 11$ atau $x\\geq15$}.\\\\\n",
    "    \\left.(x - 11)\\, \\right/(13 - 11) , & \\text{$11 \\leq x \\leq 13$}.\\\\\n",
    "    \\left.(15 - x)\\, \\right/(15 - 13) , & \\text{$13 \\leq x \\leq 15$}.\\\\\n",
    "  \\end{cases}\n",
    "  \\\\\n",
    "$$\n",
    "\n",
    "Maka nilai keanggotaan yang memenuhi adalah 0\n",
    "Maka nilai Z$_8$ = 0\n",
    "\n",
    "=================================================================================================================\n",
    "\n",
    "9 IF Suhu Dingin dan Kelembaban Basah THEN Durasi Sangat Cepat\n",
    "$$ \\\\ \\alpha(predikat_9) = \\mu SuhuDingin \\cap \\mu KelembabanBasah $$\n",
    "$$\\alpha(predikat_9)   = min (\\mu SuhuDingin[30], \\mu KelembabanBasah[200]) $$\n",
    "$$ \\alpha(predikat_9) = min (0; 0) $$\n",
    "$$ \\alpha(predikat_9) = 0 $$\n",
    "\n",
    "Lalu lihat himpunan Durasi Sangat Cepat\n",
    "$$ durasi['sangat cepat'] = \\mu(x)=\\begin{cases}\n",
    "    1, & \\text{$2\\leq x \\leq 3$}.\\\\\n",
    "    \\left.(4 - x) \\,  \\right/(4 - 3) , & \\text{$3 \\leq x \\leq 4$}.\\\\\n",
    "    0, & \\text{$x\\geq 4$}.\n",
    "  \\end{cases}\n",
    "  \\\\\n",
    "$$\n",
    "\n",
    "Maka nilai keanggotaan yang memenuhi adalah 0\n",
    "Maka nilai Z$_9$ = 0\n",
    "\n",
    "=================================================================================================================\n",
    "\n",
    "10 IF Suhu Sejuk dan Kelembaban Basah THEN Durasi Cepat\n",
    "$$ \\\\ \\alpha(predikat_1\\,_0) = \\mu SuhuSejuk \\cap \\mu KelembabanBasah $$\n",
    "$$\\alpha(predikat_1\\,_0)   = min (\\mu SuhuSejuk[30], \\mu KelembabanBasah[200]) $$\n",
    "$$ \\alpha(predikat_1\\,_0) = min (0; 0) $$\n",
    "$$ \\alpha(predikat_1\\,_0) = 0 $$\n",
    "\n",
    "Lalu lihat himpunan Durasi Cepat\n",
    "$$\n",
    "    durasi['cepat'] = \\mu(x)=\\begin{cases}\n",
    "    0, & \\text{$x\\leq 3$ atau $x\\geq8$}.\\\\\n",
    "    \\left.(x - 3)\\, \\right/(6 - 3) , & \\text{$3 \\leq x \\leq 6$}.\\\\\n",
    "    \\left.(8 - x)\\, \\right/(8 - 6) , & \\text{$6 \\leq x \\leq 8$}.\\\\\n",
    "  \\end{cases}\n",
    "$$\n",
    "\n",
    "Maka nilai keanggotaan yang memenuhi adalah 0\n",
    "Maka nilai Z$_1$$_0$ = 0\n",
    "\n",
    "=================================================================================================================\n",
    "\n",
    "11 IF Suhu Normal dan Kelembaban Basah THEN Durasi Cepat\n",
    "$$ \\\\ \\alpha(predikat_1\\,_1) = \\mu SuhuNormal \\cap \\mu KelembabanBasah $$\n",
    "$$\\alpha(predikat_1\\,_1)   = min (\\mu SuhuNormal[30], \\mu KelembabanBasah[200]) $$\n",
    "$$ \\alpha(predikat_1\\,_1) = min (0.25; 0) $$\n",
    "$$ \\alpha(predikat_1\\,_1) = 0 $$\n",
    "\n",
    "Lalu lihat himpunan Durasi Cepat\n",
    "$$\n",
    "    durasi['cepat'] = \\mu(x)=\\begin{cases}\n",
    "    0, & \\text{$x\\leq 3$ atau $x\\geq8$}.\\\\\n",
    "    \\left.(x - 3)\\, \\right/(6 - 3) , & \\text{$3 \\leq x \\leq 6$}.\\\\\n",
    "    \\left.(8 - x)\\, \\right/(8 - 6) , & \\text{$6 \\leq x \\leq 8$}.\\\\\n",
    "  \\end{cases}\n",
    "$$\n",
    "\n",
    "Maka nilai keanggotaan yang memenuhi adalah 0\n",
    "Maka nilai Z$_1$$_1$ = 0\n",
    "\n",
    "=================================================================================================================\n",
    "\n",
    "12 IF Suhu Panas dan Kelembaban Basah THEN Durasi Cepat\n",
    "$$ \\\\ \\alpha(predikat_1\\,_2) = \\mu SuhuPanas \\cap \\mu KelembabanBasah $$\n",
    "$$\\alpha(predikat_1\\,_2)   = min (\\mu SuhuPanas[30], \\mu KelembabanBasah[200]) $$\n",
    "$$ \\alpha(predikat_1\\,_2) = min (0.5; 0) $$\n",
    "$$ \\alpha(predikat_1\\,_2) = 0 $$\n",
    "\n",
    "Lalu lihat himpunan Durasi Cepat\n",
    "$$\n",
    "    durasi['cepat'] = \\mu(x)=\\begin{cases}\n",
    "    0, & \\text{$x\\leq 3$ atau $x\\geq8$}.\\\\\n",
    "    \\left.(x - 3)\\, \\right/(6 - 3) , & \\text{$3 \\leq x \\leq 6$}.\\\\\n",
    "    \\left.(8 - x)\\, \\right/(8 - 6) , & \\text{$6 \\leq x \\leq 8$}.\\\\\n",
    "  \\end{cases}\n",
    "$$\n",
    "\n",
    "Maka nilai keanggotaan yang memenuhi adalah 0\n",
    "Maka nilai Z$_1$$_2$ = 0\n",
    "\n"
   ]
  },
  {
   "cell_type": "markdown",
   "metadata": {},
   "source": [
    "Dari sini kita dapat mencari nilai z, yaitu :"
   ]
  },
  {
   "cell_type": "markdown",
   "metadata": {},
   "source": [
    "Z =$$ \\frac{\\alpha predikat_1 \\times Z_1 +\n",
    "\\alpha predikat_2 \\times Z_2 +\n",
    "\\alpha predikat_3 \\times Z_3 +\n",
    "\\alpha predikat_4 \\times Z_4 +\n",
    "\\alpha predikat_5 \\times Z_5 +\n",
    "\\alpha predikat_6 \\times Z_6 +\n",
    "\\alpha predikat_7 \\times Z_7 +\n",
    "\\alpha predikat_8 \\times Z_8 +\n",
    "\\alpha predikat_9 \\times Z_9 +\n",
    "\\alpha predikat_1\\,_0 \\times Z_1\\,_1 +\n",
    "\\alpha predikat_1\\,_1 \\times Z_1\\,_2 +\n",
    "\\alpha predikat_1\\,_2 \\times Z_1\\,_2 +}\n",
    "{\\alpha predikat_1 + \\alpha predikat_2 +\n",
    "\\alpha predikat_3 + \\alpha predikat_4 +\n",
    "\\alpha predikat_5 + \\alpha predikat_6 +\n",
    "\\alpha predikat_7 + \\alpha predikat_8 +\n",
    "\\alpha predikat_9 + \\alpha predikat_1\\,_0 +\n",
    "\\alpha predikat_1\\,_1 + \\alpha predikat_1\\,_2}$$"
   ]
  },
  {
   "cell_type": "markdown",
   "metadata": {},
   "source": [
    " $$Z = \\frac{0 + 0 + 0.25 \\times 11.5 + 0.5 \\times 15 + 0 + 0 + 0 + 0 + 0 + 0 + 0 + 0}{0 + 0 + 0.25 + 0.5 + 0 + 0 + 0 + 0 + 0 +0 +0 +0} $$\n",
    " \n",
    " $$ Z = \\frac{2.875 + 7.5}{0.75} $$\n",
    " $$ Z = 13.83333 \\, detik $$"
   ]
  },
  {
   "cell_type": "markdown",
   "metadata": {},
   "source": [
    "Hasil output yang dikeluarkan menggunakan code python sebesar 15,74 detik sedangkan perhitungan manual sebesar 13,833 detik.\n",
    "Terdapat perbedaan sebesar 1.907 detik"
   ]
  },
  {
   "cell_type": "code",
   "execution_count": null,
   "metadata": {},
   "outputs": [],
   "source": []
  },
  {
   "cell_type": "code",
   "execution_count": null,
   "metadata": {},
   "outputs": [],
   "source": []
  }
 ],
 "metadata": {
  "kernelspec": {
   "display_name": "Python 3",
   "language": "python",
   "name": "python3"
  },
  "language_info": {
   "codemirror_mode": {
    "name": "ipython",
    "version": 3
   },
   "file_extension": ".py",
   "mimetype": "text/x-python",
   "name": "python",
   "nbconvert_exporter": "python",
   "pygments_lexer": "ipython3",
   "version": "3.7.3"
  },
  "varInspector": {
   "cols": {
    "lenName": 16,
    "lenType": 16,
    "lenVar": 40
   },
   "kernels_config": {
    "python": {
     "delete_cmd_postfix": "",
     "delete_cmd_prefix": "del ",
     "library": "var_list.py",
     "varRefreshCmd": "print(var_dic_list())"
    },
    "r": {
     "delete_cmd_postfix": ") ",
     "delete_cmd_prefix": "rm(",
     "library": "var_list.r",
     "varRefreshCmd": "cat(var_dic_list()) "
    }
   },
   "types_to_exclude": [
    "module",
    "function",
    "builtin_function_or_method",
    "instance",
    "_Feature"
   ],
   "window_display": false
  }
 },
 "nbformat": 4,
 "nbformat_minor": 2
}
